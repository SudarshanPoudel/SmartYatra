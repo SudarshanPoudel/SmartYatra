{
 "cells": [
  {
   "cell_type": "code",
   "execution_count": 1,
   "metadata": {},
   "outputs": [],
   "source": [
    "import pandas as pd\n",
    "import os\n",
    "\n",
    "places_df = pd.read_csv(\"data/places.csv\")"
   ]
  },
  {
   "cell_type": "code",
   "execution_count": 5,
   "metadata": {},
   "outputs": [
    {
     "data": {
      "text/plain": [
       "Index(['id', 'name', 'location', 'description', 'rating', 'type', 'longitude',\n",
       "       'latitude', 'required_time', 'activities', 'Image'],\n",
       "      dtype='object')"
      ]
     },
     "execution_count": 5,
     "metadata": {},
     "output_type": "execute_result"
    }
   ],
   "source": [
    "places_df.columns"
   ]
  },
  {
   "cell_type": "code",
   "execution_count": 6,
   "metadata": {},
   "outputs": [],
   "source": [
    "def detailed_desc(place_id, name, desc, location, lon, lat, place_type, activities, time):\n",
    "    return f'''# {name} (id = {place_id}):\n",
    "**Location**: {location}, Longitude:{lon}, Latitude: {lat}.\n",
    "**General Description**: {name} is a {place_type} place where we can do {activities} and takes around {time} hr. on average to explore.\n",
    "**About**: {desc}\n",
    "'''"
   ]
  },
  {
   "cell_type": "code",
   "execution_count": 8,
   "metadata": {},
   "outputs": [],
   "source": [
    "# Create the new description\n",
    "places_df['description_llm'] = places_df.apply(\n",
    "    lambda row: detailed_desc(row['id'],row['name'], row['description'],  row['location'], row['longitude'], row['latitude'], row['type'], row['activities'], row['required_time']),\n",
    "    axis=1\n",
    ")"
   ]
  },
  {
   "cell_type": "markdown",
   "metadata": {},
   "source": [
    "# Generate embeddings and store"
   ]
  },
  {
   "cell_type": "code",
   "execution_count": 10,
   "metadata": {},
   "outputs": [],
   "source": [
    "import numpy as np\n",
    "np.float_ = np.float64"
   ]
  },
  {
   "cell_type": "code",
   "execution_count": 11,
   "metadata": {},
   "outputs": [
    {
     "data": {
      "text/plain": [
       "True"
      ]
     },
     "execution_count": 11,
     "metadata": {},
     "output_type": "execute_result"
    }
   ],
   "source": [
    "from dotenv import load_dotenv\n",
    "load_dotenv()"
   ]
  },
  {
   "cell_type": "code",
   "execution_count": 13,
   "metadata": {},
   "outputs": [],
   "source": [
    "from langchain_core.documents import Document\n",
    "from langchain_chroma import Chroma\n",
    "from langchain_google_genai import GoogleGenerativeAIEmbeddings\n",
    "\n",
    "from uuid import uuid4\n",
    "from typing import List, Tuple"
   ]
  },
  {
   "cell_type": "code",
   "execution_count": 29,
   "metadata": {},
   "outputs": [],
   "source": [
    "DEFAULT_COLLECTION_NAME = 'all_places'\n",
    "embeddings = GoogleGenerativeAIEmbeddings(model=\"models/embedding-001\")\n",
    "\n",
    "# Initialize Chroma vector store\n",
    "def initialize_chroma_client():\n",
    "    return Chroma(\n",
    "        collection_name=DEFAULT_COLLECTION_NAME, \n",
    "        embedding_function=embeddings,\n",
    "        persist_directory=\"./chroma_db\"\n",
    "    )\n",
    "\n",
    "# Store text chunks in Chroma vector store, replacing existing data if any\n",
    "def store_chunks(data):\n",
    "    # Reinitialize collection and add new documents\n",
    "    collection = initialize_chroma_client()\n",
    "\n",
    "    # Create metadata by excluding 'description_llm'\n",
    "    metadata = {key: value for key, value in data.items() if key != 'description_llm'}\n",
    "\n",
    "    # Create a document with embedding and metadata\n",
    "    document = Document(\n",
    "        page_content=data['description_llm'],\n",
    "        metadata=metadata\n",
    "    )\n",
    "\n",
    "    # Generate a unique ID\n",
    "    uuid = str(uuid4())\n",
    "\n",
    "    # Add document to the collection\n",
    "    collection.add_documents(documents=[document], ids=[uuid])\n",
    "\n",
    "# Retrieve top_n chunks similar to a query\n",
    "def query_chunks(query: str, top_n: int = 10) -> List:\n",
    "    collection = initialize_chroma_client()\n",
    "    results = collection.similarity_search(query, k=top_n)\n",
    "    content = [r.page_content for r in results]\n",
    "    return content"
   ]
  },
  {
   "cell_type": "code",
   "execution_count": 30,
   "metadata": {},
   "outputs": [],
   "source": [
    "for index, row in places_df.iterrows():\n",
    "    row_dict = row.to_dict()  # Convert the Series to a dictionary\n",
    "    store_chunks(row_dict)\n"
   ]
  },
  {
   "cell_type": "code",
   "execution_count": 31,
   "metadata": {},
   "outputs": [
    {
     "name": "stdout",
     "output_type": "stream",
     "text": [
      "# Narayanhiti Palace Museum (id = 7):\n",
      "**Location**: 1 km north of central Kathmandu, Longitude:85.32, Latitude: 27.71.\n",
      "**General Description**: Narayanhiti Palace Museum is a Historic, Cultural place where we can do Exploring and takes around 2.0 hr. on average to explore.\n",
      "**About**: Narayanhiti Palace Museum, a former royal residence in Kathmandu, showcases Nepal's monarchy until its 2008 abolishment.  This museum offers visitors a look into royal life through its opulent rooms, including the Throne Room and Banquet Hall, and displays artifacts like gifts and personal belongings.  Its architecture blends traditional Nepali and modern styles, and the surrounding gardens contribute to a stately atmosphere.  It's a key destination for understanding Nepal's history and culture. \n",
      "\n"
     ]
    }
   ],
   "source": [
    "print(query_chunks(\"Historic place with lots of history\", 2)[0])"
   ]
  },
  {
   "cell_type": "code",
   "execution_count": 11,
   "metadata": {},
   "outputs": [
    {
     "data": {
      "text/plain": [
       "Index(['id', 'name', 'location', 'description', 'rating', 'type', 'longitude',\n",
       "       'latitude', 'required_time', 'activities', 'Image'],\n",
       "      dtype='object')"
      ]
     },
     "execution_count": 11,
     "metadata": {},
     "output_type": "execute_result"
    }
   ],
   "source": [
    "places_df.columns"
   ]
  },
  {
   "cell_type": "code",
   "execution_count": 12,
   "metadata": {},
   "outputs": [
    {
     "name": "stdout",
     "output_type": "stream",
     "text": [
      "Historic\n",
      "Religious\n",
      "Cultural\n",
      "Commercial\n",
      "Natural\n",
      "Wildlife\n"
     ]
    }
   ],
   "source": [
    "activities = set()\n",
    "for a in places_df['type']:\n",
    "    act = a.split(', ')\n",
    "    for ax in act:\n",
    "        if ax not in activities:\n",
    "            activities.add(ax)\n",
    "            print(ax)"
   ]
  },
  {
   "cell_type": "code",
   "execution_count": null,
   "metadata": {},
   "outputs": [],
   "source": []
  }
 ],
 "metadata": {
  "kernelspec": {
   "display_name": "Python 3",
   "language": "python",
   "name": "python3"
  },
  "language_info": {
   "codemirror_mode": {
    "name": "ipython",
    "version": 3
   },
   "file_extension": ".py",
   "mimetype": "text/x-python",
   "name": "python",
   "nbconvert_exporter": "python",
   "pygments_lexer": "ipython3",
   "version": "3.10.15"
  }
 },
 "nbformat": 4,
 "nbformat_minor": 2
}
